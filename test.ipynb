{
 "cells": [
  {
   "cell_type": "markdown",
   "id": "7207283e",
   "metadata": {},
   "source": [
    "## Test markdown\n",
    "- Test 1\n",
    "- Test 2\n",
    "- Test 3"
   ]
  },
  {
   "cell_type": "code",
   "execution_count": 1,
   "id": "79ffcd36",
   "metadata": {},
   "outputs": [],
   "source": [
    "x = 0\n",
    "x += 10"
   ]
  },
  {
   "cell_type": "code",
   "execution_count": 2,
   "id": "e2ca5415",
   "metadata": {},
   "outputs": [
    {
     "name": "stdout",
     "output_type": "stream",
     "text": [
      "10\n"
     ]
    }
   ],
   "source": [
    "print(x)"
   ]
  }
 ],
 "metadata": {
  "kernelspec": {
   "display_name": "Python 3.10.5 64-bit",
   "language": "python",
   "name": "python3"
  },
  "language_info": {
   "codemirror_mode": {
    "name": "ipython",
    "version": 3
   },
   "file_extension": ".py",
   "mimetype": "text/x-python",
   "name": "python",
   "nbconvert_exporter": "python",
   "pygments_lexer": "ipython3",
   "version": "3.10.5"
  },
  "vscode": {
   "interpreter": {
    "hash": "aee8b7b246df8f9039afb4144a1f6fd8d2ca17a180786b69acc140d282b71a49"
   }
  }
 },
 "nbformat": 4,
 "nbformat_minor": 5
}
